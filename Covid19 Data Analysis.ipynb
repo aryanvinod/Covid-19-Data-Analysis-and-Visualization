{
 "cells": [
  {
   "cell_type": "markdown",
   "id": "2d04a8e2",
   "metadata": {},
   "source": [
    "## Covid-19 Data Analysis of all over the world"
   ]
  },
  {
   "cell_type": "markdown",
   "id": "5f4e7bf2",
   "metadata": {},
   "source": [
    "This notebook is all about the Data Analysis of Covid-19. Data has been taken from <a href=\"https://www.worldometers.info/coronavirus/\">Worldometers</a> webiste"
   ]
  },
  {
   "cell_type": "code",
   "execution_count": 1,
   "id": "638e980a",
   "metadata": {},
   "outputs": [
    {
     "name": "stdout",
     "output_type": "stream",
     "text": [
      "Setup Completed\n"
     ]
    }
   ],
   "source": [
    "#import all the required libraries\n",
    "import numpy as np\n",
    "import pandas as pd\n",
    "import matplotlib.pyplot as plt\n",
    "import requests\n",
    "from bs4 import BeautifulSoup\n",
    "print(\"Setup Completed\")"
   ]
  },
  {
   "cell_type": "markdown",
   "id": "9e0ec4cc",
   "metadata": {},
   "source": [
    "## Get data from website"
   ]
  },
  {
   "cell_type": "code",
   "execution_count": 2,
   "id": "99e9ff26",
   "metadata": {},
   "outputs": [],
   "source": [
    "# Send a get request to the website\n",
    "url =\"https://www.worldometers.info/coronavirus/\"\n",
    "response = requests.get(url)"
   ]
  },
  {
   "cell_type": "code",
   "execution_count": 3,
   "id": "79ba363d",
   "metadata": {},
   "outputs": [],
   "source": [
    "# Parse the HTML content using beauBeautifulSoup\n",
    "soup = BeautifulSoup(response.content, 'html.parser')"
   ]
  },
  {
   "cell_type": "code",
   "execution_count": 4,
   "id": "b354df29",
   "metadata": {},
   "outputs": [],
   "source": [
    "# Find the table element\n",
    "table = soup.find('table', id ='main_table_countries_today')"
   ]
  },
  {
   "cell_type": "code",
   "execution_count": 5,
   "id": "fff6e11e",
   "metadata": {},
   "outputs": [
    {
     "data": {
      "text/html": [
       "<div>\n",
       "<style scoped>\n",
       "    .dataframe tbody tr th:only-of-type {\n",
       "        vertical-align: middle;\n",
       "    }\n",
       "\n",
       "    .dataframe tbody tr th {\n",
       "        vertical-align: top;\n",
       "    }\n",
       "\n",
       "    .dataframe thead th {\n",
       "        text-align: right;\n",
       "    }\n",
       "</style>\n",
       "<table border=\"1\" class=\"dataframe\">\n",
       "  <thead>\n",
       "    <tr style=\"text-align: right;\">\n",
       "      <th></th>\n",
       "      <th>#</th>\n",
       "      <th>Country,Other</th>\n",
       "      <th>TotalCases</th>\n",
       "      <th>NewCases</th>\n",
       "      <th>TotalDeaths</th>\n",
       "      <th>NewDeaths</th>\n",
       "      <th>TotalRecovered</th>\n",
       "      <th>NewRecovered</th>\n",
       "      <th>ActiveCases</th>\n",
       "      <th>Serious,Critical</th>\n",
       "      <th>...</th>\n",
       "      <th>TotalTests</th>\n",
       "      <th>Tests/\\n1M pop</th>\n",
       "      <th>Population</th>\n",
       "      <th>Continent</th>\n",
       "      <th>1 Caseevery X ppl</th>\n",
       "      <th>1 Deathevery X ppl</th>\n",
       "      <th>1 Testevery X ppl</th>\n",
       "      <th>New Cases/1M pop</th>\n",
       "      <th>New Deaths/1M pop</th>\n",
       "      <th>Active Cases/1M pop</th>\n",
       "    </tr>\n",
       "  </thead>\n",
       "  <tbody>\n",
       "    <tr>\n",
       "      <th>0</th>\n",
       "      <td></td>\n",
       "      <td>North America</td>\n",
       "      <td>125,509,988</td>\n",
       "      <td></td>\n",
       "      <td>1,620,332</td>\n",
       "      <td></td>\n",
       "      <td>120,994,476</td>\n",
       "      <td>+1,341</td>\n",
       "      <td>2,895,180</td>\n",
       "      <td>7,302</td>\n",
       "      <td>...</td>\n",
       "      <td></td>\n",
       "      <td></td>\n",
       "      <td></td>\n",
       "      <td>North America</td>\n",
       "      <td></td>\n",
       "      <td></td>\n",
       "      <td></td>\n",
       "      <td></td>\n",
       "      <td></td>\n",
       "      <td></td>\n",
       "    </tr>\n",
       "    <tr>\n",
       "      <th>1</th>\n",
       "      <td></td>\n",
       "      <td>Asia</td>\n",
       "      <td>215,069,101</td>\n",
       "      <td>+10,434</td>\n",
       "      <td>1,539,896</td>\n",
       "      <td>+11</td>\n",
       "      <td>199,636,189</td>\n",
       "      <td>+4,246</td>\n",
       "      <td>13,893,016</td>\n",
       "      <td>15,549</td>\n",
       "      <td>...</td>\n",
       "      <td></td>\n",
       "      <td></td>\n",
       "      <td></td>\n",
       "      <td>Asia</td>\n",
       "      <td></td>\n",
       "      <td></td>\n",
       "      <td></td>\n",
       "      <td></td>\n",
       "      <td></td>\n",
       "      <td></td>\n",
       "    </tr>\n",
       "    <tr>\n",
       "      <th>2</th>\n",
       "      <td></td>\n",
       "      <td>Europe</td>\n",
       "      <td>247,480,378</td>\n",
       "      <td></td>\n",
       "      <td>2,026,983</td>\n",
       "      <td></td>\n",
       "      <td>243,097,385</td>\n",
       "      <td>+20,392</td>\n",
       "      <td>2,356,010</td>\n",
       "      <td>6,451</td>\n",
       "      <td>...</td>\n",
       "      <td></td>\n",
       "      <td></td>\n",
       "      <td></td>\n",
       "      <td>Europe</td>\n",
       "      <td></td>\n",
       "      <td></td>\n",
       "      <td></td>\n",
       "      <td></td>\n",
       "      <td></td>\n",
       "      <td></td>\n",
       "    </tr>\n",
       "    <tr>\n",
       "      <th>3</th>\n",
       "      <td></td>\n",
       "      <td>South America</td>\n",
       "      <td>68,250,502</td>\n",
       "      <td></td>\n",
       "      <td>1,352,055</td>\n",
       "      <td></td>\n",
       "      <td>66,376,668</td>\n",
       "      <td></td>\n",
       "      <td>521,779</td>\n",
       "      <td>10,174</td>\n",
       "      <td>...</td>\n",
       "      <td></td>\n",
       "      <td></td>\n",
       "      <td></td>\n",
       "      <td>South America</td>\n",
       "      <td></td>\n",
       "      <td></td>\n",
       "      <td></td>\n",
       "      <td></td>\n",
       "      <td></td>\n",
       "      <td></td>\n",
       "    </tr>\n",
       "    <tr>\n",
       "      <th>4</th>\n",
       "      <td></td>\n",
       "      <td>Oceania</td>\n",
       "      <td>13,966,366</td>\n",
       "      <td>+3,372</td>\n",
       "      <td>26,570</td>\n",
       "      <td>+10</td>\n",
       "      <td>13,811,745</td>\n",
       "      <td>+3,177</td>\n",
       "      <td>128,051</td>\n",
       "      <td>63</td>\n",
       "      <td>...</td>\n",
       "      <td></td>\n",
       "      <td></td>\n",
       "      <td></td>\n",
       "      <td>Australia/Oceania</td>\n",
       "      <td></td>\n",
       "      <td></td>\n",
       "      <td></td>\n",
       "      <td></td>\n",
       "      <td></td>\n",
       "      <td></td>\n",
       "    </tr>\n",
       "  </tbody>\n",
       "</table>\n",
       "<p>5 rows × 22 columns</p>\n",
       "</div>"
      ],
      "text/plain": [
       "  #  Country,Other   TotalCases NewCases TotalDeaths NewDeaths TotalRecovered  \\\n",
       "0    North America  125,509,988            1,620,332              120,994,476   \n",
       "1             Asia  215,069,101  +10,434   1,539,896       +11    199,636,189   \n",
       "2           Europe  247,480,378            2,026,983              243,097,385   \n",
       "3    South America   68,250,502            1,352,055               66,376,668   \n",
       "4          Oceania   13,966,366   +3,372      26,570       +10     13,811,745   \n",
       "\n",
       "  NewRecovered ActiveCases Serious,Critical  ... TotalTests Tests/\\n1M pop  \\\n",
       "0       +1,341   2,895,180            7,302  ...                             \n",
       "1       +4,246  13,893,016           15,549  ...                             \n",
       "2      +20,392   2,356,010            6,451  ...                             \n",
       "3                  521,779           10,174  ...                             \n",
       "4       +3,177     128,051               63  ...                             \n",
       "\n",
       "  Population          Continent 1 Caseevery X ppl 1 Deathevery X ppl  \\\n",
       "0                 North America                                        \n",
       "1                          Asia                                        \n",
       "2                        Europe                                        \n",
       "3                 South America                                        \n",
       "4             Australia/Oceania                                        \n",
       "\n",
       "  1 Testevery X ppl New Cases/1M pop New Deaths/1M pop Active Cases/1M pop  \n",
       "0                                                                           \n",
       "1                                                                           \n",
       "2                                                                           \n",
       "3                                                                           \n",
       "4                                                                           \n",
       "\n",
       "[5 rows x 22 columns]"
      ]
     },
     "execution_count": 5,
     "metadata": {},
     "output_type": "execute_result"
    }
   ],
   "source": [
    "# Extract the table data\n",
    "rows = table.find_all('tr')\n",
    "\n",
    "# Extract the header row and use it as column names\n",
    "header = rows[0].find_all('th')\n",
    "header = [h.text.strip() for h in header]\n",
    "data = []\n",
    "\n",
    "# Loop over the data rows and extract the cell values\n",
    "for row in rows[1:247]:\n",
    "    cols = row.find_all('td')\n",
    "    cols = [col.text.strip() for col in cols]\n",
    "    data.append(cols)\n",
    "\n",
    "# Create the DataFrame with the header and data\n",
    "df = pd.DataFrame(data, columns=header)\n",
    "\n",
    "df.head()"
   ]
  },
  {
   "cell_type": "code",
   "execution_count": 6,
   "id": "26d4fd5a",
   "metadata": {},
   "outputs": [
    {
     "data": {
      "text/plain": [
       "(246, 22)"
      ]
     },
     "execution_count": 6,
     "metadata": {},
     "output_type": "execute_result"
    }
   ],
   "source": [
    "df.shape"
   ]
  },
  {
   "cell_type": "code",
   "execution_count": 7,
   "id": "9f393870",
   "metadata": {
    "scrolled": true
   },
   "outputs": [
    {
     "data": {
      "text/html": [
       "<div>\n",
       "<style scoped>\n",
       "    .dataframe tbody tr th:only-of-type {\n",
       "        vertical-align: middle;\n",
       "    }\n",
       "\n",
       "    .dataframe tbody tr th {\n",
       "        vertical-align: top;\n",
       "    }\n",
       "\n",
       "    .dataframe thead th {\n",
       "        text-align: right;\n",
       "    }\n",
       "</style>\n",
       "<table border=\"1\" class=\"dataframe\">\n",
       "  <thead>\n",
       "    <tr style=\"text-align: right;\">\n",
       "      <th></th>\n",
       "      <th>#</th>\n",
       "      <th>Country,Other</th>\n",
       "      <th>TotalCases</th>\n",
       "      <th>NewCases</th>\n",
       "      <th>TotalDeaths</th>\n",
       "      <th>NewDeaths</th>\n",
       "      <th>TotalRecovered</th>\n",
       "      <th>NewRecovered</th>\n",
       "      <th>ActiveCases</th>\n",
       "      <th>Serious,Critical</th>\n",
       "      <th>...</th>\n",
       "      <th>TotalTests</th>\n",
       "      <th>Tests/\\n1M pop</th>\n",
       "      <th>Population</th>\n",
       "      <th>Continent</th>\n",
       "      <th>1 Caseevery X ppl</th>\n",
       "      <th>1 Deathevery X ppl</th>\n",
       "      <th>1 Testevery X ppl</th>\n",
       "      <th>New Cases/1M pop</th>\n",
       "      <th>New Deaths/1M pop</th>\n",
       "      <th>Active Cases/1M pop</th>\n",
       "    </tr>\n",
       "  </thead>\n",
       "  <tbody>\n",
       "    <tr>\n",
       "      <th>241</th>\n",
       "      <td></td>\n",
       "      <td>Total:</td>\n",
       "      <td>247,480,378</td>\n",
       "      <td></td>\n",
       "      <td>2,026,983</td>\n",
       "      <td></td>\n",
       "      <td>243,097,385</td>\n",
       "      <td></td>\n",
       "      <td>2,356,010</td>\n",
       "      <td>6,451</td>\n",
       "      <td>...</td>\n",
       "      <td></td>\n",
       "      <td></td>\n",
       "      <td></td>\n",
       "      <td>Europe</td>\n",
       "      <td></td>\n",
       "      <td></td>\n",
       "      <td></td>\n",
       "      <td></td>\n",
       "      <td></td>\n",
       "      <td></td>\n",
       "    </tr>\n",
       "    <tr>\n",
       "      <th>242</th>\n",
       "      <td></td>\n",
       "      <td>Total:</td>\n",
       "      <td>68,250,502</td>\n",
       "      <td></td>\n",
       "      <td>1,352,055</td>\n",
       "      <td></td>\n",
       "      <td>66,376,668</td>\n",
       "      <td></td>\n",
       "      <td>521,779</td>\n",
       "      <td>10,174</td>\n",
       "      <td>...</td>\n",
       "      <td></td>\n",
       "      <td></td>\n",
       "      <td></td>\n",
       "      <td>South America</td>\n",
       "      <td></td>\n",
       "      <td></td>\n",
       "      <td></td>\n",
       "      <td></td>\n",
       "      <td></td>\n",
       "      <td></td>\n",
       "    </tr>\n",
       "    <tr>\n",
       "      <th>243</th>\n",
       "      <td></td>\n",
       "      <td>Total:</td>\n",
       "      <td>13,966,366</td>\n",
       "      <td>+3,372</td>\n",
       "      <td>26,570</td>\n",
       "      <td>+10</td>\n",
       "      <td>13,811,745</td>\n",
       "      <td>+3,177</td>\n",
       "      <td>128,051</td>\n",
       "      <td>63</td>\n",
       "      <td>...</td>\n",
       "      <td></td>\n",
       "      <td></td>\n",
       "      <td></td>\n",
       "      <td>Australia/Oceania</td>\n",
       "      <td></td>\n",
       "      <td></td>\n",
       "      <td></td>\n",
       "      <td></td>\n",
       "      <td></td>\n",
       "      <td></td>\n",
       "    </tr>\n",
       "    <tr>\n",
       "      <th>244</th>\n",
       "      <td></td>\n",
       "      <td>Total:</td>\n",
       "      <td>12,807,649</td>\n",
       "      <td></td>\n",
       "      <td>258,645</td>\n",
       "      <td></td>\n",
       "      <td>12,079,974</td>\n",
       "      <td></td>\n",
       "      <td>469,030</td>\n",
       "      <td>548</td>\n",
       "      <td>...</td>\n",
       "      <td></td>\n",
       "      <td></td>\n",
       "      <td></td>\n",
       "      <td>Africa</td>\n",
       "      <td></td>\n",
       "      <td></td>\n",
       "      <td></td>\n",
       "      <td></td>\n",
       "      <td></td>\n",
       "      <td></td>\n",
       "    </tr>\n",
       "    <tr>\n",
       "      <th>245</th>\n",
       "      <td></td>\n",
       "      <td>Total:</td>\n",
       "      <td>721</td>\n",
       "      <td></td>\n",
       "      <td>15</td>\n",
       "      <td></td>\n",
       "      <td>706</td>\n",
       "      <td></td>\n",
       "      <td>0</td>\n",
       "      <td>0</td>\n",
       "      <td>...</td>\n",
       "      <td></td>\n",
       "      <td></td>\n",
       "      <td></td>\n",
       "      <td></td>\n",
       "      <td></td>\n",
       "      <td></td>\n",
       "      <td></td>\n",
       "      <td></td>\n",
       "      <td></td>\n",
       "      <td></td>\n",
       "    </tr>\n",
       "  </tbody>\n",
       "</table>\n",
       "<p>5 rows × 22 columns</p>\n",
       "</div>"
      ],
      "text/plain": [
       "    # Country,Other   TotalCases NewCases TotalDeaths NewDeaths  \\\n",
       "241          Total:  247,480,378            2,026,983             \n",
       "242          Total:   68,250,502            1,352,055             \n",
       "243          Total:   13,966,366   +3,372      26,570       +10   \n",
       "244          Total:   12,807,649              258,645             \n",
       "245          Total:          721                   15             \n",
       "\n",
       "    TotalRecovered NewRecovered ActiveCases Serious,Critical  ... TotalTests  \\\n",
       "241    243,097,385                2,356,010            6,451  ...              \n",
       "242     66,376,668                  521,779           10,174  ...              \n",
       "243     13,811,745       +3,177     128,051               63  ...              \n",
       "244     12,079,974                  469,030              548  ...              \n",
       "245            706                        0                0  ...              \n",
       "\n",
       "    Tests/\\n1M pop Population          Continent 1 Caseevery X ppl  \\\n",
       "241                                       Europe                     \n",
       "242                                South America                     \n",
       "243                            Australia/Oceania                     \n",
       "244                                       Africa                     \n",
       "245                                                                  \n",
       "\n",
       "    1 Deathevery X ppl 1 Testevery X ppl New Cases/1M pop New Deaths/1M pop  \\\n",
       "241                                                                           \n",
       "242                                                                           \n",
       "243                                                                           \n",
       "244                                                                           \n",
       "245                                                                           \n",
       "\n",
       "    Active Cases/1M pop  \n",
       "241                      \n",
       "242                      \n",
       "243                      \n",
       "244                      \n",
       "245                      \n",
       "\n",
       "[5 rows x 22 columns]"
      ]
     },
     "execution_count": 7,
     "metadata": {},
     "output_type": "execute_result"
    }
   ],
   "source": [
    "df.tail()"
   ]
  },
  {
   "cell_type": "markdown",
   "id": "11cce9e2",
   "metadata": {},
   "source": [
    "### Data Cleaning Process"
   ]
  },
  {
   "cell_type": "code",
   "execution_count": 8,
   "id": "d3079fbe",
   "metadata": {},
   "outputs": [],
   "source": [
    "#Rename column name as per need\n",
    "df =df.rename(columns={'Country,Other':'Country'})"
   ]
  },
  {
   "cell_type": "code",
   "execution_count": 9,
   "id": "8683e3f0",
   "metadata": {},
   "outputs": [],
   "source": [
    "#Removing unwanted rows from the DataFrame\n",
    "df =df.drop(index=range(8))"
   ]
  },
  {
   "cell_type": "code",
   "execution_count": 10,
   "id": "f79e81c7",
   "metadata": {},
   "outputs": [],
   "source": [
    "df = df.drop(index=range(239,246))"
   ]
  },
  {
   "cell_type": "code",
   "execution_count": 11,
   "id": "2b269a3a",
   "metadata": {},
   "outputs": [
    {
     "data": {
      "text/plain": [
       "(231, 22)"
      ]
     },
     "execution_count": 11,
     "metadata": {},
     "output_type": "execute_result"
    }
   ],
   "source": [
    "df.shape"
   ]
  },
  {
   "cell_type": "code",
   "execution_count": 12,
   "id": "4bae29e7",
   "metadata": {},
   "outputs": [
    {
     "data": {
      "text/plain": [
       "Index(['#', 'Country', 'TotalCases', 'NewCases', 'TotalDeaths', 'NewDeaths',\n",
       "       'TotalRecovered', 'NewRecovered', 'ActiveCases', 'Serious,Critical',\n",
       "       'Tot Cases/1M pop', 'Deaths/1M pop', 'TotalTests', 'Tests/\\n1M pop',\n",
       "       'Population', 'Continent', '1 Caseevery X ppl', '1 Deathevery X ppl',\n",
       "       '1 Testevery X ppl', 'New Cases/1M pop', 'New Deaths/1M pop',\n",
       "       'Active Cases/1M pop'],\n",
       "      dtype='object')"
      ]
     },
     "execution_count": 12,
     "metadata": {},
     "output_type": "execute_result"
    }
   ],
   "source": [
    "df.columns #Display all the available columns"
   ]
  },
  {
   "cell_type": "code",
   "execution_count": 13,
   "id": "158a718b",
   "metadata": {},
   "outputs": [],
   "source": [
    "# drop unwanted columns as per need\n",
    "df =df.drop(df.columns[15:], axis=1)"
   ]
  },
  {
   "cell_type": "code",
   "execution_count": 14,
   "id": "2652ec5f",
   "metadata": {},
   "outputs": [
    {
     "data": {
      "text/plain": [
       "(231, 15)"
      ]
     },
     "execution_count": 14,
     "metadata": {},
     "output_type": "execute_result"
    }
   ],
   "source": [
    "df.shape"
   ]
  },
  {
   "cell_type": "code",
   "execution_count": 15,
   "id": "8b33f3b1",
   "metadata": {},
   "outputs": [
    {
     "data": {
      "text/html": [
       "<div>\n",
       "<style scoped>\n",
       "    .dataframe tbody tr th:only-of-type {\n",
       "        vertical-align: middle;\n",
       "    }\n",
       "\n",
       "    .dataframe tbody tr th {\n",
       "        vertical-align: top;\n",
       "    }\n",
       "\n",
       "    .dataframe thead th {\n",
       "        text-align: right;\n",
       "    }\n",
       "</style>\n",
       "<table border=\"1\" class=\"dataframe\">\n",
       "  <thead>\n",
       "    <tr style=\"text-align: right;\">\n",
       "      <th></th>\n",
       "      <th>#</th>\n",
       "      <th>Country</th>\n",
       "      <th>TotalCases</th>\n",
       "      <th>NewCases</th>\n",
       "      <th>TotalDeaths</th>\n",
       "      <th>NewDeaths</th>\n",
       "      <th>TotalRecovered</th>\n",
       "      <th>NewRecovered</th>\n",
       "      <th>ActiveCases</th>\n",
       "      <th>Serious,Critical</th>\n",
       "      <th>Tot Cases/1M pop</th>\n",
       "      <th>Deaths/1M pop</th>\n",
       "      <th>TotalTests</th>\n",
       "      <th>Tests/\\n1M pop</th>\n",
       "      <th>Population</th>\n",
       "    </tr>\n",
       "  </thead>\n",
       "  <tbody>\n",
       "    <tr>\n",
       "      <th>8</th>\n",
       "      <td>1</td>\n",
       "      <td>USA</td>\n",
       "      <td>106,082,759</td>\n",
       "      <td></td>\n",
       "      <td>1,153,526</td>\n",
       "      <td></td>\n",
       "      <td>103,746,998</td>\n",
       "      <td></td>\n",
       "      <td>1,182,235</td>\n",
       "      <td>2,136</td>\n",
       "      <td>316,849</td>\n",
       "      <td>3,445</td>\n",
       "      <td>1,171,933,667</td>\n",
       "      <td>3,500,344</td>\n",
       "      <td>334,805,269</td>\n",
       "    </tr>\n",
       "    <tr>\n",
       "      <th>9</th>\n",
       "      <td>2</td>\n",
       "      <td>India</td>\n",
       "      <td>44,700,667</td>\n",
       "      <td></td>\n",
       "      <td>530,818</td>\n",
       "      <td></td>\n",
       "      <td>44,161,922</td>\n",
       "      <td></td>\n",
       "      <td>7,927</td>\n",
       "      <td>N/A</td>\n",
       "      <td>31,779</td>\n",
       "      <td>377</td>\n",
       "      <td>920,637,763</td>\n",
       "      <td>654,498</td>\n",
       "      <td>1,406,631,776</td>\n",
       "    </tr>\n",
       "    <tr>\n",
       "      <th>10</th>\n",
       "      <td>3</td>\n",
       "      <td>France</td>\n",
       "      <td>39,735,279</td>\n",
       "      <td></td>\n",
       "      <td>165,454</td>\n",
       "      <td></td>\n",
       "      <td>39,468,692</td>\n",
       "      <td></td>\n",
       "      <td>101,133</td>\n",
       "      <td>869</td>\n",
       "      <td>605,864</td>\n",
       "      <td>2,523</td>\n",
       "      <td>271,490,188</td>\n",
       "      <td>4,139,547</td>\n",
       "      <td>65,584,518</td>\n",
       "    </tr>\n",
       "    <tr>\n",
       "      <th>11</th>\n",
       "      <td>4</td>\n",
       "      <td>Germany</td>\n",
       "      <td>38,326,616</td>\n",
       "      <td></td>\n",
       "      <td>170,231</td>\n",
       "      <td></td>\n",
       "      <td>38,012,000</td>\n",
       "      <td>+13,500</td>\n",
       "      <td>144,385</td>\n",
       "      <td>N/A</td>\n",
       "      <td>456,902</td>\n",
       "      <td>2,029</td>\n",
       "      <td>122,332,384</td>\n",
       "      <td>1,458,359</td>\n",
       "      <td>83,883,596</td>\n",
       "    </tr>\n",
       "    <tr>\n",
       "      <th>12</th>\n",
       "      <td>5</td>\n",
       "      <td>Brazil</td>\n",
       "      <td>37,204,677</td>\n",
       "      <td></td>\n",
       "      <td>699,917</td>\n",
       "      <td></td>\n",
       "      <td>36,249,161</td>\n",
       "      <td></td>\n",
       "      <td>255,599</td>\n",
       "      <td>N/A</td>\n",
       "      <td>172,761</td>\n",
       "      <td>3,250</td>\n",
       "      <td>63,776,166</td>\n",
       "      <td>296,146</td>\n",
       "      <td>215,353,593</td>\n",
       "    </tr>\n",
       "  </tbody>\n",
       "</table>\n",
       "</div>"
      ],
      "text/plain": [
       "    #  Country   TotalCases NewCases TotalDeaths NewDeaths TotalRecovered  \\\n",
       "8   1      USA  106,082,759            1,153,526              103,746,998   \n",
       "9   2    India   44,700,667              530,818               44,161,922   \n",
       "10  3   France   39,735,279              165,454               39,468,692   \n",
       "11  4  Germany   38,326,616              170,231               38,012,000   \n",
       "12  5   Brazil   37,204,677              699,917               36,249,161   \n",
       "\n",
       "   NewRecovered ActiveCases Serious,Critical Tot Cases/1M pop Deaths/1M pop  \\\n",
       "8                 1,182,235            2,136          316,849         3,445   \n",
       "9                     7,927              N/A           31,779           377   \n",
       "10                  101,133              869          605,864         2,523   \n",
       "11      +13,500     144,385              N/A          456,902         2,029   \n",
       "12                  255,599              N/A          172,761         3,250   \n",
       "\n",
       "       TotalTests Tests/\\n1M pop     Population  \n",
       "8   1,171,933,667      3,500,344    334,805,269  \n",
       "9     920,637,763        654,498  1,406,631,776  \n",
       "10    271,490,188      4,139,547     65,584,518  \n",
       "11    122,332,384      1,458,359     83,883,596  \n",
       "12     63,776,166        296,146    215,353,593  "
      ]
     },
     "execution_count": 15,
     "metadata": {},
     "output_type": "execute_result"
    }
   ],
   "source": [
    "df.head()"
   ]
  },
  {
   "cell_type": "code",
   "execution_count": 16,
   "id": "f8f7c203",
   "metadata": {},
   "outputs": [
    {
     "data": {
      "text/html": [
       "<div>\n",
       "<style scoped>\n",
       "    .dataframe tbody tr th:only-of-type {\n",
       "        vertical-align: middle;\n",
       "    }\n",
       "\n",
       "    .dataframe tbody tr th {\n",
       "        vertical-align: top;\n",
       "    }\n",
       "\n",
       "    .dataframe thead th {\n",
       "        text-align: right;\n",
       "    }\n",
       "</style>\n",
       "<table border=\"1\" class=\"dataframe\">\n",
       "  <thead>\n",
       "    <tr style=\"text-align: right;\">\n",
       "      <th></th>\n",
       "      <th>#</th>\n",
       "      <th>Country</th>\n",
       "      <th>TotalCases</th>\n",
       "      <th>NewCases</th>\n",
       "      <th>TotalDeaths</th>\n",
       "      <th>NewDeaths</th>\n",
       "      <th>TotalRecovered</th>\n",
       "      <th>NewRecovered</th>\n",
       "      <th>ActiveCases</th>\n",
       "      <th>Serious,Critical</th>\n",
       "      <th>Tot Cases/1M pop</th>\n",
       "      <th>Deaths/1M pop</th>\n",
       "      <th>TotalTests</th>\n",
       "      <th>Tests/\\n1M pop</th>\n",
       "      <th>Population</th>\n",
       "    </tr>\n",
       "  </thead>\n",
       "  <tbody>\n",
       "    <tr>\n",
       "      <th>count</th>\n",
       "      <td>231</td>\n",
       "      <td>231</td>\n",
       "      <td>231</td>\n",
       "      <td>231</td>\n",
       "      <td>231</td>\n",
       "      <td>231</td>\n",
       "      <td>231</td>\n",
       "      <td>231</td>\n",
       "      <td>231</td>\n",
       "      <td>231</td>\n",
       "      <td>231</td>\n",
       "      <td>231</td>\n",
       "      <td>231</td>\n",
       "      <td>231</td>\n",
       "      <td>231</td>\n",
       "    </tr>\n",
       "    <tr>\n",
       "      <th>unique</th>\n",
       "      <td>231</td>\n",
       "      <td>231</td>\n",
       "      <td>231</td>\n",
       "      <td>5</td>\n",
       "      <td>211</td>\n",
       "      <td>3</td>\n",
       "      <td>212</td>\n",
       "      <td>9</td>\n",
       "      <td>185</td>\n",
       "      <td>68</td>\n",
       "      <td>229</td>\n",
       "      <td>215</td>\n",
       "      <td>213</td>\n",
       "      <td>214</td>\n",
       "      <td>230</td>\n",
       "    </tr>\n",
       "    <tr>\n",
       "      <th>top</th>\n",
       "      <td>1</td>\n",
       "      <td>USA</td>\n",
       "      <td>106,082,759</td>\n",
       "      <td></td>\n",
       "      <td></td>\n",
       "      <td></td>\n",
       "      <td>N/A</td>\n",
       "      <td></td>\n",
       "      <td>N/A</td>\n",
       "      <td></td>\n",
       "      <td></td>\n",
       "      <td></td>\n",
       "      <td></td>\n",
       "      <td></td>\n",
       "      <td></td>\n",
       "    </tr>\n",
       "    <tr>\n",
       "      <th>freq</th>\n",
       "      <td>1</td>\n",
       "      <td>1</td>\n",
       "      <td>1</td>\n",
       "      <td>227</td>\n",
       "      <td>6</td>\n",
       "      <td>228</td>\n",
       "      <td>19</td>\n",
       "      <td>205</td>\n",
       "      <td>19</td>\n",
       "      <td>93</td>\n",
       "      <td>2</td>\n",
       "      <td>8</td>\n",
       "      <td>18</td>\n",
       "      <td>18</td>\n",
       "      <td>2</td>\n",
       "    </tr>\n",
       "  </tbody>\n",
       "</table>\n",
       "</div>"
      ],
      "text/plain": [
       "          # Country   TotalCases NewCases TotalDeaths NewDeaths  \\\n",
       "count   231     231          231      231         231       231   \n",
       "unique  231     231          231        5         211         3   \n",
       "top       1     USA  106,082,759                                  \n",
       "freq      1       1            1      227           6       228   \n",
       "\n",
       "       TotalRecovered NewRecovered ActiveCases Serious,Critical  \\\n",
       "count             231          231         231              231   \n",
       "unique            212            9         185               68   \n",
       "top               N/A                      N/A                    \n",
       "freq               19          205          19               93   \n",
       "\n",
       "       Tot Cases/1M pop Deaths/1M pop TotalTests Tests/\\n1M pop Population  \n",
       "count               231           231        231            231        231  \n",
       "unique              229           215        213            214        230  \n",
       "top                                                                         \n",
       "freq                  2             8         18             18          2  "
      ]
     },
     "execution_count": 16,
     "metadata": {},
     "output_type": "execute_result"
    }
   ],
   "source": [
    "df.describe()"
   ]
  },
  {
   "cell_type": "code",
   "execution_count": 17,
   "id": "56720c20",
   "metadata": {},
   "outputs": [],
   "source": [
    "#i am Removing two more columns which are not useful for me.\n",
    "cols_to_remove=['NewCases','NewRecovered'] #creating a list of columns which needs to be removed\n",
    "df =df.drop(cols_to_remove, axis=1)"
   ]
  },
  {
   "cell_type": "code",
   "execution_count": 18,
   "id": "5ebdbc52",
   "metadata": {},
   "outputs": [],
   "source": [
    "#Replacing empty rows in columns with NaN\n",
    "df['NewDeaths'] = df['NewDeaths'].replace('',np.nan) \n",
    "df['Serious,Critical'] = df['Serious,Critical'].replace('',np.nan)"
   ]
  },
  {
   "cell_type": "code",
   "execution_count": 19,
   "id": "a139353d",
   "metadata": {},
   "outputs": [
    {
     "data": {
      "text/html": [
       "<div>\n",
       "<style scoped>\n",
       "    .dataframe tbody tr th:only-of-type {\n",
       "        vertical-align: middle;\n",
       "    }\n",
       "\n",
       "    .dataframe tbody tr th {\n",
       "        vertical-align: top;\n",
       "    }\n",
       "\n",
       "    .dataframe thead th {\n",
       "        text-align: right;\n",
       "    }\n",
       "</style>\n",
       "<table border=\"1\" class=\"dataframe\">\n",
       "  <thead>\n",
       "    <tr style=\"text-align: right;\">\n",
       "      <th></th>\n",
       "      <th>#</th>\n",
       "      <th>Country</th>\n",
       "      <th>TotalCases</th>\n",
       "      <th>TotalDeaths</th>\n",
       "      <th>NewDeaths</th>\n",
       "      <th>TotalRecovered</th>\n",
       "      <th>ActiveCases</th>\n",
       "      <th>Serious,Critical</th>\n",
       "      <th>Tot Cases/1M pop</th>\n",
       "      <th>Deaths/1M pop</th>\n",
       "      <th>TotalTests</th>\n",
       "      <th>Tests/\\n1M pop</th>\n",
       "      <th>Population</th>\n",
       "    </tr>\n",
       "  </thead>\n",
       "  <tbody>\n",
       "    <tr>\n",
       "      <th>8</th>\n",
       "      <td>1</td>\n",
       "      <td>USA</td>\n",
       "      <td>106,082,759</td>\n",
       "      <td>1,153,526</td>\n",
       "      <td>NaN</td>\n",
       "      <td>103,746,998</td>\n",
       "      <td>1,182,235</td>\n",
       "      <td>2,136</td>\n",
       "      <td>316,849</td>\n",
       "      <td>3,445</td>\n",
       "      <td>1,171,933,667</td>\n",
       "      <td>3,500,344</td>\n",
       "      <td>334,805,269</td>\n",
       "    </tr>\n",
       "    <tr>\n",
       "      <th>9</th>\n",
       "      <td>2</td>\n",
       "      <td>India</td>\n",
       "      <td>44,700,667</td>\n",
       "      <td>530,818</td>\n",
       "      <td>NaN</td>\n",
       "      <td>44,161,922</td>\n",
       "      <td>7,927</td>\n",
       "      <td>N/A</td>\n",
       "      <td>31,779</td>\n",
       "      <td>377</td>\n",
       "      <td>920,637,763</td>\n",
       "      <td>654,498</td>\n",
       "      <td>1,406,631,776</td>\n",
       "    </tr>\n",
       "    <tr>\n",
       "      <th>10</th>\n",
       "      <td>3</td>\n",
       "      <td>France</td>\n",
       "      <td>39,735,279</td>\n",
       "      <td>165,454</td>\n",
       "      <td>NaN</td>\n",
       "      <td>39,468,692</td>\n",
       "      <td>101,133</td>\n",
       "      <td>869</td>\n",
       "      <td>605,864</td>\n",
       "      <td>2,523</td>\n",
       "      <td>271,490,188</td>\n",
       "      <td>4,139,547</td>\n",
       "      <td>65,584,518</td>\n",
       "    </tr>\n",
       "    <tr>\n",
       "      <th>11</th>\n",
       "      <td>4</td>\n",
       "      <td>Germany</td>\n",
       "      <td>38,326,616</td>\n",
       "      <td>170,231</td>\n",
       "      <td>NaN</td>\n",
       "      <td>38,012,000</td>\n",
       "      <td>144,385</td>\n",
       "      <td>N/A</td>\n",
       "      <td>456,902</td>\n",
       "      <td>2,029</td>\n",
       "      <td>122,332,384</td>\n",
       "      <td>1,458,359</td>\n",
       "      <td>83,883,596</td>\n",
       "    </tr>\n",
       "    <tr>\n",
       "      <th>12</th>\n",
       "      <td>5</td>\n",
       "      <td>Brazil</td>\n",
       "      <td>37,204,677</td>\n",
       "      <td>699,917</td>\n",
       "      <td>NaN</td>\n",
       "      <td>36,249,161</td>\n",
       "      <td>255,599</td>\n",
       "      <td>N/A</td>\n",
       "      <td>172,761</td>\n",
       "      <td>3,250</td>\n",
       "      <td>63,776,166</td>\n",
       "      <td>296,146</td>\n",
       "      <td>215,353,593</td>\n",
       "    </tr>\n",
       "  </tbody>\n",
       "</table>\n",
       "</div>"
      ],
      "text/plain": [
       "    #  Country   TotalCases TotalDeaths NewDeaths TotalRecovered ActiveCases  \\\n",
       "8   1      USA  106,082,759   1,153,526       NaN    103,746,998   1,182,235   \n",
       "9   2    India   44,700,667     530,818       NaN     44,161,922       7,927   \n",
       "10  3   France   39,735,279     165,454       NaN     39,468,692     101,133   \n",
       "11  4  Germany   38,326,616     170,231       NaN     38,012,000     144,385   \n",
       "12  5   Brazil   37,204,677     699,917       NaN     36,249,161     255,599   \n",
       "\n",
       "   Serious,Critical Tot Cases/1M pop Deaths/1M pop     TotalTests  \\\n",
       "8             2,136          316,849         3,445  1,171,933,667   \n",
       "9               N/A           31,779           377    920,637,763   \n",
       "10              869          605,864         2,523    271,490,188   \n",
       "11              N/A          456,902         2,029    122,332,384   \n",
       "12              N/A          172,761         3,250     63,776,166   \n",
       "\n",
       "   Tests/\\n1M pop     Population  \n",
       "8       3,500,344    334,805,269  \n",
       "9         654,498  1,406,631,776  \n",
       "10      4,139,547     65,584,518  \n",
       "11      1,458,359     83,883,596  \n",
       "12        296,146    215,353,593  "
      ]
     },
     "execution_count": 19,
     "metadata": {},
     "output_type": "execute_result"
    }
   ],
   "source": [
    "df.head()"
   ]
  },
  {
   "cell_type": "code",
   "execution_count": 20,
   "id": "2ecc775d",
   "metadata": {},
   "outputs": [
    {
     "name": "stdout",
     "output_type": "stream",
     "text": [
      "<class 'pandas.core.frame.DataFrame'>\n",
      "RangeIndex: 231 entries, 8 to 238\n",
      "Data columns (total 13 columns):\n",
      " #   Column            Non-Null Count  Dtype \n",
      "---  ------            --------------  ----- \n",
      " 0   #                 231 non-null    object\n",
      " 1   Country           231 non-null    object\n",
      " 2   TotalCases        231 non-null    object\n",
      " 3   TotalDeaths       231 non-null    object\n",
      " 4   NewDeaths         3 non-null      object\n",
      " 5   TotalRecovered    231 non-null    object\n",
      " 6   ActiveCases       231 non-null    object\n",
      " 7   Serious,Critical  138 non-null    object\n",
      " 8   Tot Cases/1M pop  231 non-null    object\n",
      " 9   Deaths/1M pop     231 non-null    object\n",
      " 10  TotalTests        231 non-null    object\n",
      " 11  Tests/\n",
      "1M pop     231 non-null    object\n",
      " 12  Population        231 non-null    object\n",
      "dtypes: object(13)\n",
      "memory usage: 23.6+ KB\n"
     ]
    }
   ],
   "source": [
    "df.info()"
   ]
  },
  {
   "cell_type": "code",
   "execution_count": 21,
   "id": "f7e0a990",
   "metadata": {},
   "outputs": [
    {
     "data": {
      "text/plain": [
       "dtype('O')"
      ]
     },
     "execution_count": 21,
     "metadata": {},
     "output_type": "execute_result"
    }
   ],
   "source": [
    "df['TotalCases'].dtype"
   ]
  },
  {
   "cell_type": "code",
   "execution_count": 22,
   "id": "d6f371b5",
   "metadata": {},
   "outputs": [],
   "source": [
    "# firstly removing the commas(,) from 'TotalCases' column\n",
    "df[\"TotalCases\"] = df[\"TotalCases\"].str.replace(\",\",\"\")\n",
    "\n",
    "# lets' change the dtype of TotalCases columns to int\n",
    "df['TotalCases']= pd.to_numeric(df['TotalCases'])"
   ]
  },
  {
   "cell_type": "code",
   "execution_count": 23,
   "id": "1be5d15c",
   "metadata": {},
   "outputs": [
    {
     "data": {
      "text/plain": [
       "dtype('int64')"
      ]
     },
     "execution_count": 23,
     "metadata": {},
     "output_type": "execute_result"
    }
   ],
   "source": [
    "df['TotalCases'].dtype"
   ]
  },
  {
   "cell_type": "markdown",
   "id": "a668d16c",
   "metadata": {},
   "source": [
    "Now data cleaning process is done. Let's plot some visualization"
   ]
  },
  {
   "cell_type": "markdown",
   "id": "df10ea16",
   "metadata": {},
   "source": [
    "## Data Visualization"
   ]
  },
  {
   "cell_type": "markdown",
   "id": "37ab7ba0",
   "metadata": {},
   "source": [
    "### Top 10 Countries by Highest Number of Covid-19 Cases"
   ]
  },
  {
   "cell_type": "code",
   "execution_count": 24,
   "id": "1d7b8f4c",
   "metadata": {},
   "outputs": [
    {
     "data": {
      "image/png": "[encoded data removed]",
      "text/plain": [
       "<Figure size 640x480 with 1 Axes>"
      ]
     },
     "metadata": {},
     "output_type": "display_data"
    }
   ],
   "source": [
    "#let's plot a bar chart for top 10 countries with most number of cases.\n",
    "fig, ax = plt.subplots()\n",
    "\n",
    "clr=['#E0022B','#D40861','#E80CBC','#B80CE8','#7E0CE8','#250CE8','#0C89E8','#0CE8E4','#0CE897','#0EC432'] #for different color bar\n",
    "plt.bar(df['Country'].head(10), df['TotalCases'].head(10),color=clr)\n",
    "plt.grid(axis='y', linestyle='--')\n",
    "\n",
    "# Add labels and title\n",
    "plt.xlabel('Country Name')\n",
    "plt.ylabel('Total Cases')\n",
    "plt.title('Top 10 COVID-19 Cases by Country')\n",
    "plt.xticks(df['Country'].head(10),rotation=30)\n",
    "plt.tight_layout()\n",
    "\n",
    "#Adding text on each bar\n",
    "for i, j in enumerate(df['TotalCases'].head(10)):\n",
    "    ax.text(i,j+100000, str(j//1000000)+'M', ha='center')\n",
    "\n",
    "plt.show()"
   ]
  },
  {
   "cell_type": "markdown",
   "id": "106edb3f",
   "metadata": {},
   "source": [
    "### Total cases, deaths and recovery rate by Country"
   ]
  },
  {
   "cell_type": "code",
   "execution_count": 25,
   "id": "664d8cc1",
   "metadata": {},
   "outputs": [],
   "source": [
    "#let's replace comma between the values\n",
    "df['TotalDeaths']=df['TotalDeaths'].str.replace(',','')\n",
    "df['TotalRecovered']=df['TotalRecovered'].str.replace(',','')"
   ]
  },
  {
   "cell_type": "code",
   "execution_count": 26,
   "id": "6b86716d",
   "metadata": {},
   "outputs": [],
   "source": [
    "df['TotalRecovered']= pd.to_numeric(df['TotalRecovered'].head(10)) #changing data type from Object type\n",
    "df['TotalDeaths']= pd.to_numeric(df['TotalDeaths'])"
   ]
  },
  {
   "cell_type": "code",
   "execution_count": 27,
   "id": "8cd59962",
   "metadata": {
    "scrolled": true
   },
   "outputs": [
    {
     "data": {
      "image/png": "[encoded data removed]",
      "text/plain": [
       "<Figure size 640x480 with 1 Axes>"
      ]
     },
     "metadata": {},
     "output_type": "display_data"
    }
   ],
   "source": [
    "cols=['Country','TotalCases', 'TotalDeaths', 'TotalRecovered']\n",
    "df_select=df[cols]\n",
    "\n",
    "df_top10 = df_select.nlargest(10,'TotalCases')\n",
    "\n",
    "df_top10.set_index('Country', inplace=True)\n",
    "\n",
    "ax= df_top10.plot(kind='bar', stacked = True)\n",
    "\n",
    "plt.title('COVID-19 Cases by Country (Top 10)')\n",
    "plt.xlabel('Country')\n",
    "plt.ylabel('Total Count')\n",
    "plt.show()"
   ]
  },
  {
   "cell_type": "markdown",
   "id": "091de1c8",
   "metadata": {},
   "source": [
    "## Top Countries with Active Number of Cases"
   ]
  },
  {
   "cell_type": "code",
   "execution_count": 28,
   "id": "cafae723",
   "metadata": {
    "scrolled": true
   },
   "outputs": [
    {
     "data": {
      "text/plain": [
       "dtype('O')"
      ]
     },
     "execution_count": 28,
     "metadata": {},
     "output_type": "execute_result"
    }
   ],
   "source": [
    "df['ActiveCases'].dtype"
   ]
  },
  {
   "cell_type": "code",
   "execution_count": 29,
   "id": "30d6ff4a",
   "metadata": {},
   "outputs": [],
   "source": [
    "# replacing comma and changing data type\n",
    "df['ActiveCases']=df['ActiveCases'].str.replace(',','')\n",
    "\n",
    "df['ActiveCases']= pd.to_numeric(df['ActiveCases'].head(10))"
   ]
  },
  {
   "cell_type": "code",
   "execution_count": 30,
   "id": "bbfb344f",
   "metadata": {},
   "outputs": [
    {
     "data": {
      "text/plain": [
       "dtype('float64')"
      ]
     },
     "execution_count": 30,
     "metadata": {},
     "output_type": "execute_result"
    }
   ],
   "source": [
    "df['ActiveCases'].dtype"
   ]
  },
  {
   "cell_type": "code",
   "execution_count": 31,
   "id": "fa081e7e",
   "metadata": {},
   "outputs": [],
   "source": [
    "df= df.sort_values('ActiveCases', ascending=False) #sorting Active Cases values from greater to smaller"
   ]
  },
  {
   "cell_type": "code",
   "execution_count": 32,
   "id": "23358d17",
   "metadata": {
    "scrolled": true
   },
   "outputs": [
    {
     "data": {
      "image/png": "[encoded data removed]",
      "text/plain": [
       "<Figure size 640x480 with 1 Axes>"
      ]
     },
     "metadata": {},
     "output_type": "display_data"
    }
   ],
   "source": [
    "#let's plot a bar chart for top 10 countries with most number of cases.\n",
    "fig, ax = plt.subplots()\n",
    "\n",
    "plt.bar(df['Country'].head(10), df['ActiveCases'].head(10),color='#E0920B')\n",
    "\n",
    "# Add labels and title\n",
    "plt.xlabel('Country Name')\n",
    "plt.ylabel('Active Cases Count')\n",
    "plt.title('Top 10 Countries with Covid-19 active cases')\n",
    "plt.xticks(df['Country'].head(10), rotation=30)\n",
    "plt.tight_layout()\n",
    "\n",
    "#Adding text on each bar\n",
    "for i, j in enumerate(df['ActiveCases'].head(10)):\n",
    "    ax.text(i,j+100000, str(j//1000)+'k', ha='center')\n",
    "    \n",
    "plt.show()"
   ]
  },
  {
   "cell_type": "markdown",
   "id": "6bdd7c8d",
   "metadata": {},
   "source": [
    "### Covid-19 Deaths per Million Population"
   ]
  },
  {
   "cell_type": "code",
   "execution_count": 33,
   "id": "9e5787d8",
   "metadata": {},
   "outputs": [],
   "source": [
    "df['Deaths/1M pop'] =df['Deaths/1M pop'].str.replace(',','') #replacing commas"
   ]
  },
  {
   "cell_type": "code",
   "execution_count": 34,
   "id": "7dabd64c",
   "metadata": {},
   "outputs": [
    {
     "data": {
      "text/html": [
       "<div>\n",
       "<style scoped>\n",
       "    .dataframe tbody tr th:only-of-type {\n",
       "        vertical-align: middle;\n",
       "    }\n",
       "\n",
       "    .dataframe tbody tr th {\n",
       "        vertical-align: top;\n",
       "    }\n",
       "\n",
       "    .dataframe thead th {\n",
       "        text-align: right;\n",
       "    }\n",
       "</style>\n",
       "<table border=\"1\" class=\"dataframe\">\n",
       "  <thead>\n",
       "    <tr style=\"text-align: right;\">\n",
       "      <th></th>\n",
       "      <th>#</th>\n",
       "      <th>Country</th>\n",
       "      <th>TotalCases</th>\n",
       "      <th>TotalDeaths</th>\n",
       "      <th>NewDeaths</th>\n",
       "      <th>TotalRecovered</th>\n",
       "      <th>ActiveCases</th>\n",
       "      <th>Serious,Critical</th>\n",
       "      <th>Tot Cases/1M pop</th>\n",
       "      <th>Deaths/1M pop</th>\n",
       "      <th>TotalTests</th>\n",
       "      <th>Tests/\\n1M pop</th>\n",
       "      <th>Population</th>\n",
       "    </tr>\n",
       "  </thead>\n",
       "  <tbody>\n",
       "    <tr>\n",
       "      <th>13</th>\n",
       "      <td>6</td>\n",
       "      <td>Japan</td>\n",
       "      <td>33398536</td>\n",
       "      <td>73632.0</td>\n",
       "      <td>NaN</td>\n",
       "      <td>21712446.0</td>\n",
       "      <td>11612458.0</td>\n",
       "      <td>73</td>\n",
       "      <td>265,944</td>\n",
       "      <td>586</td>\n",
       "      <td>97,046,868</td>\n",
       "      <td>772,759</td>\n",
       "      <td>125,584,838</td>\n",
       "    </tr>\n",
       "    <tr>\n",
       "      <th>8</th>\n",
       "      <td>1</td>\n",
       "      <td>USA</td>\n",
       "      <td>106082759</td>\n",
       "      <td>1153526.0</td>\n",
       "      <td>NaN</td>\n",
       "      <td>103746998.0</td>\n",
       "      <td>1182235.0</td>\n",
       "      <td>2,136</td>\n",
       "      <td>316,849</td>\n",
       "      <td>3445</td>\n",
       "      <td>1,171,933,667</td>\n",
       "      <td>3,500,344</td>\n",
       "      <td>334,805,269</td>\n",
       "    </tr>\n",
       "    <tr>\n",
       "      <th>12</th>\n",
       "      <td>5</td>\n",
       "      <td>Brazil</td>\n",
       "      <td>37204677</td>\n",
       "      <td>699917.0</td>\n",
       "      <td>NaN</td>\n",
       "      <td>36249161.0</td>\n",
       "      <td>255599.0</td>\n",
       "      <td>N/A</td>\n",
       "      <td>172,761</td>\n",
       "      <td>3250</td>\n",
       "      <td>63,776,166</td>\n",
       "      <td>296,146</td>\n",
       "      <td>215,353,593</td>\n",
       "    </tr>\n",
       "    <tr>\n",
       "      <th>17</th>\n",
       "      <td>10</td>\n",
       "      <td>Russia</td>\n",
       "      <td>22550395</td>\n",
       "      <td>396974.0</td>\n",
       "      <td>NaN</td>\n",
       "      <td>21902407.0</td>\n",
       "      <td>251014.0</td>\n",
       "      <td>N/A</td>\n",
       "      <td>154,660</td>\n",
       "      <td>2723</td>\n",
       "      <td>273,400,000</td>\n",
       "      <td>1,875,095</td>\n",
       "      <td>145,805,947</td>\n",
       "    </tr>\n",
       "    <tr>\n",
       "      <th>14</th>\n",
       "      <td>7</td>\n",
       "      <td>S. Korea</td>\n",
       "      <td>30749740</td>\n",
       "      <td>34211.0</td>\n",
       "      <td>+10</td>\n",
       "      <td>30535014.0</td>\n",
       "      <td>180515.0</td>\n",
       "      <td>144</td>\n",
       "      <td>599,061</td>\n",
       "      <td>666</td>\n",
       "      <td>15,804,065</td>\n",
       "      <td>307,892</td>\n",
       "      <td>51,329,899</td>\n",
       "    </tr>\n",
       "  </tbody>\n",
       "</table>\n",
       "</div>"
      ],
      "text/plain": [
       "     #   Country  TotalCases  TotalDeaths NewDeaths  TotalRecovered  \\\n",
       "13   6     Japan    33398536      73632.0       NaN      21712446.0   \n",
       "8    1       USA   106082759    1153526.0       NaN     103746998.0   \n",
       "12   5    Brazil    37204677     699917.0       NaN      36249161.0   \n",
       "17  10    Russia    22550395     396974.0       NaN      21902407.0   \n",
       "14   7  S. Korea    30749740      34211.0       +10      30535014.0   \n",
       "\n",
       "    ActiveCases Serious,Critical Tot Cases/1M pop Deaths/1M pop  \\\n",
       "13   11612458.0               73          265,944           586   \n",
       "8     1182235.0            2,136          316,849          3445   \n",
       "12     255599.0              N/A          172,761          3250   \n",
       "17     251014.0              N/A          154,660          2723   \n",
       "14     180515.0              144          599,061           666   \n",
       "\n",
       "       TotalTests Tests/\\n1M pop   Population  \n",
       "13     97,046,868        772,759  125,584,838  \n",
       "8   1,171,933,667      3,500,344  334,805,269  \n",
       "12     63,776,166        296,146  215,353,593  \n",
       "17    273,400,000      1,875,095  145,805,947  \n",
       "14     15,804,065        307,892   51,329,899  "
      ]
     },
     "execution_count": 34,
     "metadata": {},
     "output_type": "execute_result"
    }
   ],
   "source": [
    "df.head()"
   ]
  },
  {
   "cell_type": "code",
   "execution_count": 35,
   "id": "ceea7c6e",
   "metadata": {},
   "outputs": [],
   "source": [
    "df['Deaths/1M pop'] = pd.to_numeric(df['Deaths/1M pop']) #converting data type from object type"
   ]
  },
  {
   "cell_type": "code",
   "execution_count": 36,
   "id": "b6abbbf2",
   "metadata": {},
   "outputs": [
    {
     "data": {
      "text/plain": [
       "dtype('float64')"
      ]
     },
     "execution_count": 36,
     "metadata": {},
     "output_type": "execute_result"
    }
   ],
   "source": [
    "df['Deaths/1M pop'].dtype"
   ]
  },
  {
   "cell_type": "code",
   "execution_count": 37,
   "id": "ba206b92",
   "metadata": {},
   "outputs": [],
   "source": [
    "df=df.sort_values('Deaths/1M pop',ascending=False) #sorting the values"
   ]
  },
  {
   "cell_type": "code",
   "execution_count": 38,
   "id": "b0704100",
   "metadata": {
    "scrolled": true
   },
   "outputs": [
    {
     "data": {
      "text/html": [
       "<div>\n",
       "<style scoped>\n",
       "    .dataframe tbody tr th:only-of-type {\n",
       "        vertical-align: middle;\n",
       "    }\n",
       "\n",
       "    .dataframe tbody tr th {\n",
       "        vertical-align: top;\n",
       "    }\n",
       "\n",
       "    .dataframe thead th {\n",
       "        text-align: right;\n",
       "    }\n",
       "</style>\n",
       "<table border=\"1\" class=\"dataframe\">\n",
       "  <thead>\n",
       "    <tr style=\"text-align: right;\">\n",
       "      <th></th>\n",
       "      <th>#</th>\n",
       "      <th>Country</th>\n",
       "      <th>TotalCases</th>\n",
       "      <th>TotalDeaths</th>\n",
       "      <th>NewDeaths</th>\n",
       "      <th>TotalRecovered</th>\n",
       "      <th>ActiveCases</th>\n",
       "      <th>Serious,Critical</th>\n",
       "      <th>Tot Cases/1M pop</th>\n",
       "      <th>Deaths/1M pop</th>\n",
       "      <th>TotalTests</th>\n",
       "      <th>Tests/\\n1M pop</th>\n",
       "      <th>Population</th>\n",
       "    </tr>\n",
       "  </thead>\n",
       "  <tbody>\n",
       "    <tr>\n",
       "      <th>42</th>\n",
       "      <td>35</td>\n",
       "      <td>Peru</td>\n",
       "      <td>4490491</td>\n",
       "      <td>219694.0</td>\n",
       "      <td>NaN</td>\n",
       "      <td>NaN</td>\n",
       "      <td>NaN</td>\n",
       "      <td>34</td>\n",
       "      <td>133,311</td>\n",
       "      <td>6522.0</td>\n",
       "      <td>38,246,538</td>\n",
       "      <td>1,135,444</td>\n",
       "      <td>33,684,208</td>\n",
       "    </tr>\n",
       "    <tr>\n",
       "      <th>66</th>\n",
       "      <td>59</td>\n",
       "      <td>Bulgaria</td>\n",
       "      <td>1299057</td>\n",
       "      <td>38244.0</td>\n",
       "      <td>NaN</td>\n",
       "      <td>NaN</td>\n",
       "      <td>NaN</td>\n",
       "      <td>25</td>\n",
       "      <td>189,793</td>\n",
       "      <td>5587.0</td>\n",
       "      <td>11,107,008</td>\n",
       "      <td>1,622,741</td>\n",
       "      <td>6,844,597</td>\n",
       "    </tr>\n",
       "    <tr>\n",
       "      <th>54</th>\n",
       "      <td>47</td>\n",
       "      <td>Hungary</td>\n",
       "      <td>2198461</td>\n",
       "      <td>48791.0</td>\n",
       "      <td>NaN</td>\n",
       "      <td>NaN</td>\n",
       "      <td>NaN</td>\n",
       "      <td>13</td>\n",
       "      <td>228,857</td>\n",
       "      <td>5079.0</td>\n",
       "      <td>11,394,556</td>\n",
       "      <td>1,186,160</td>\n",
       "      <td>9,606,259</td>\n",
       "    </tr>\n",
       "    <tr>\n",
       "      <th>103</th>\n",
       "      <td>96</td>\n",
       "      <td>Bosnia and Herzegovina</td>\n",
       "      <td>401973</td>\n",
       "      <td>16296.0</td>\n",
       "      <td>NaN</td>\n",
       "      <td>NaN</td>\n",
       "      <td>NaN</td>\n",
       "      <td>NaN</td>\n",
       "      <td>123,710</td>\n",
       "      <td>5015.0</td>\n",
       "      <td>1,884,721</td>\n",
       "      <td>580,036</td>\n",
       "      <td>3,249,317</td>\n",
       "    </tr>\n",
       "    <tr>\n",
       "      <th>105</th>\n",
       "      <td>98</td>\n",
       "      <td>North Macedonia</td>\n",
       "      <td>347327</td>\n",
       "      <td>9665.0</td>\n",
       "      <td>NaN</td>\n",
       "      <td>NaN</td>\n",
       "      <td>NaN</td>\n",
       "      <td>NaN</td>\n",
       "      <td>166,880</td>\n",
       "      <td>4644.0</td>\n",
       "      <td>2,226,216</td>\n",
       "      <td>1,069,626</td>\n",
       "      <td>2,081,304</td>\n",
       "    </tr>\n",
       "  </tbody>\n",
       "</table>\n",
       "</div>"
      ],
      "text/plain": [
       "      #                 Country  TotalCases  TotalDeaths NewDeaths  \\\n",
       "42   35                    Peru     4490491     219694.0       NaN   \n",
       "66   59                Bulgaria     1299057      38244.0       NaN   \n",
       "54   47                 Hungary     2198461      48791.0       NaN   \n",
       "103  96  Bosnia and Herzegovina      401973      16296.0       NaN   \n",
       "105  98         North Macedonia      347327       9665.0       NaN   \n",
       "\n",
       "     TotalRecovered  ActiveCases Serious,Critical Tot Cases/1M pop  \\\n",
       "42              NaN          NaN               34          133,311   \n",
       "66              NaN          NaN               25          189,793   \n",
       "54              NaN          NaN               13          228,857   \n",
       "103             NaN          NaN              NaN          123,710   \n",
       "105             NaN          NaN              NaN          166,880   \n",
       "\n",
       "     Deaths/1M pop  TotalTests Tests/\\n1M pop  Population  \n",
       "42          6522.0  38,246,538      1,135,444  33,684,208  \n",
       "66          5587.0  11,107,008      1,622,741   6,844,597  \n",
       "54          5079.0  11,394,556      1,186,160   9,606,259  \n",
       "103         5015.0   1,884,721        580,036   3,249,317  \n",
       "105         4644.0   2,226,216      1,069,626   2,081,304  "
      ]
     },
     "execution_count": 38,
     "metadata": {},
     "output_type": "execute_result"
    }
   ],
   "source": [
    "df.head()"
   ]
  },
  {
   "cell_type": "code",
   "execution_count": 39,
   "id": "d1854a28",
   "metadata": {},
   "outputs": [
    {
     "data": {
      "image/png": "[encoded data removed]",
      "text/plain": [
       "<Figure size 640x480 with 1 Axes>"
      ]
     },
     "metadata": {},
     "output_type": "display_data"
    }
   ],
   "source": [
    "#let's plot a graph\n",
    "\n",
    "fig, ax = plt.subplots()\n",
    "\n",
    "plt.bar(df['Country'].head(10), df['Deaths/1M pop'].head(10),color='#E82038')\n",
    "plt.grid(axis='y', linestyle='--')\n",
    "\n",
    "# Add labels and title\n",
    "plt.xlabel('Country')\n",
    "plt.ylabel('Deaths/1M Population')\n",
    "plt.title('COVID-19 Deaths/Million')\n",
    "plt.xticks(df['Country'].head(10),rotation=90)\n",
    "plt.tight_layout()\n",
    "\n",
    "#Adding text on each bar\n",
    "for i, j in enumerate(df['Deaths/1M pop'].head(10)):\n",
    "    ax.text(i,j+10, str(j//1000)+'k', ha='center')\n",
    "\n",
    "plt.show()"
   ]
  },
  {
   "cell_type": "markdown",
   "id": "39109e91",
   "metadata": {},
   "source": [
    "### Total Covid-19 tests by Country"
   ]
  },
  {
   "cell_type": "code",
   "execution_count": 40,
   "id": "0402c819",
   "metadata": {},
   "outputs": [],
   "source": [
    "df['TotalTests'] = df['TotalTests'].str.replace(',','') #removing commas\n",
    "df['TotalTests'] = pd.to_numeric(df['TotalTests']) #changing data type\n",
    "df=df.sort_values('TotalTests', ascending=False) #sorting"
   ]
  },
  {
   "cell_type": "code",
   "execution_count": 41,
   "id": "4887d3b2",
   "metadata": {},
   "outputs": [
    {
     "data": {
      "image/png": "[encoded data removed]",
      "text/plain": [
       "<Figure size 640x480 with 1 Axes>"
      ]
     },
     "metadata": {},
     "output_type": "display_data"
    }
   ],
   "source": [
    "#let's plot a graph\n",
    "\n",
    "fig, ax = plt.subplots()\n",
    "plt.bar(df['Country'].head(10), df['TotalTests'].head(10),color='#90E635')\n",
    "plt.grid(axis='y', linestyle='--')\n",
    "\n",
    "# Add labels and title\n",
    "plt.xlabel('Country')\n",
    "plt.ylabel('Total Tests')\n",
    "plt.title('COVID-19 total tests by Country')\n",
    "plt.xticks(df['Country'].head(10),rotation=30)\n",
    "plt.tight_layout()\n",
    "\n",
    "#Adding text on each bar\n",
    "for i, j in enumerate(df['TotalTests'].head(10)):\n",
    "    ax.text(i,j+10000000, str(j//1000000)+'M', ha='center',fontsize=8)\n",
    "\n",
    "plt.show()"
   ]
  },
  {
   "cell_type": "markdown",
   "id": "aa05f216",
   "metadata": {},
   "source": [
    "This is the basic data cleaning and data visualization process which i have performed."
   ]
  },
  {
   "cell_type": "markdown",
   "id": "1f2a8386",
   "metadata": {},
   "source": [
    "### Conclusion"
   ]
  },
  {
   "cell_type": "markdown",
   "id": "f3203eca",
   "metadata": {},
   "source": [
    "Covid-19 Impact\n",
    "- We can see in above analysis, USA has reported the highest number of cases followed by India, France and Germany and so on.\n",
    "- USA has reported the most deaths followed by Brazil, India and so on.\n",
    "- Japan has highest number of Active covid-19 cases followed by USA, Brazil, Russia and so on.\n",
    "- Peru has more deaths per Million population followed by Bulgaria, Hungary and so on.\n",
    "- USA has done highest tests followed by India, UK, Spain and so on.\n",
    "\n",
    "Note:- This information is as of 23rd March 2023. It may be vary later."
   ]
  },
  {
   "cell_type": "code",
   "execution_count": null,
   "id": "21104bd6",
   "metadata": {},
   "outputs": [],
   "source": []
  }
 ],
 "metadata": {
  "kernelspec": {
   "display_name": "Python 3 (ipykernel)",
   "language": "python",
   "name": "python3"
  },
  "language_info": {
   "codemirror_mode": {
    "name": "ipython",
    "version": 3
   },
   "file_extension": ".py",
   "mimetype": "text/x-python",
   "name": "python",
   "nbconvert_exporter": "python",
   "pygments_lexer": "ipython3",
   "version": "3.10.5"
  }
 },
 "nbformat": 4,
 "nbformat_minor": 5
}
